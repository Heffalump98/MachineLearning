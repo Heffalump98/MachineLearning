{
 "cells": [
  {
   "cell_type": "markdown",
   "id": "ab9e683c-1dfa-44bb-8186-05e84d668c57",
   "metadata": {},
   "source": [
    "# Decision Trees: Earthquakes and Tsunamis example"
   ]
  },
  {
   "cell_type": "markdown",
   "id": "f18e5607-6c8b-426d-82fa-0f701f0e18bb",
   "metadata": {},
   "source": [
    "In this Jupyter notebook, we will do an exercise using a Decision Tree algorithm.\n",
    "The aim of this notebook is to give a simple example of how to employ this library and method.\n",
    "The usage of this algorithm is mainly for pedagogical purposes and it is not looking to thoroughly explain the origin of tsunamis, nor draw precise conclusions."
   ]
  },
  {
   "cell_type": "code",
   "execution_count": 35,
   "id": "443e0fd7-276d-45e7-966a-9bf059f6d9c7",
   "metadata": {},
   "outputs": [],
   "source": [
    "import numpy as np \n",
    "import pandas as pd\n",
    "from sklearn.tree import DecisionTreeClassifier\n",
    "from sklearn.model_selection import train_test_split\n",
    "from sklearn import metrics\n",
    "from sklearn import tree\n",
    "import matplotlib.pyplot as plt\n",
    "import seaborn as sns"
   ]
  },
  {
   "cell_type": "markdown",
   "id": "9ae0da99-9ea7-48eb-8e10-3f0fae2ef318",
   "metadata": {},
   "source": [
    "#### The data for this example is given by the Earthquake data from National Geophysical Data Center / World Data Service (NGDC/WDS): NCEI/WDS Global Significant Earthquake Database. NOAA National Centers for Environmental Information. doi:10.7289/V5TD9V7K"
   ]
  },
  {
   "cell_type": "markdown",
   "id": "9585dcc7-ef06-4ac9-a4b1-d2d4e4987998",
   "metadata": {},
   "source": [
    "This tsv file was obtained for earthquakes with Magnitude and Damage recorded from all over the world:\n",
    "\n",
    "https://www.ngdc.noaa.gov/hazel/view/hazards/earthquake/event-data?minEqDepth=0&minEqMagnitude=0&minDamageAmountOrder=0"
   ]
  },
  {
   "cell_type": "code",
   "execution_count": 36,
   "id": "8c93e0ed-38f2-47e2-a032-47de3a680637",
   "metadata": {},
   "outputs": [
    {
     "data": {
      "text/html": [
       "<div>\n",
       "<style scoped>\n",
       "    .dataframe tbody tr th:only-of-type {\n",
       "        vertical-align: middle;\n",
       "    }\n",
       "\n",
       "    .dataframe tbody tr th {\n",
       "        vertical-align: top;\n",
       "    }\n",
       "\n",
       "    .dataframe thead th {\n",
       "        text-align: right;\n",
       "    }\n",
       "</style>\n",
       "<table border=\"1\" class=\"dataframe\">\n",
       "  <thead>\n",
       "    <tr style=\"text-align: right;\">\n",
       "      <th></th>\n",
       "      <th>Search Parameters</th>\n",
       "      <th>Year</th>\n",
       "      <th>Mo</th>\n",
       "      <th>Dy</th>\n",
       "      <th>Hr</th>\n",
       "      <th>Mn</th>\n",
       "      <th>Sec</th>\n",
       "      <th>Tsu</th>\n",
       "      <th>Vol</th>\n",
       "      <th>Location Name</th>\n",
       "      <th>...</th>\n",
       "      <th>Total Missing</th>\n",
       "      <th>Total Missing Description</th>\n",
       "      <th>Total Injuries</th>\n",
       "      <th>Total Injuries Description</th>\n",
       "      <th>Total Damage ($Mil)</th>\n",
       "      <th>Total Damage Description</th>\n",
       "      <th>Total Houses Destroyed</th>\n",
       "      <th>Total Houses Destroyed Description</th>\n",
       "      <th>Total Houses Damaged</th>\n",
       "      <th>Total Houses Damaged Description</th>\n",
       "    </tr>\n",
       "  </thead>\n",
       "  <tbody>\n",
       "    <tr>\n",
       "      <th>0</th>\n",
       "      <td>[\"Earthquake Magnitude &gt;= 0\",\"Earthquake Depth...</td>\n",
       "      <td>NaN</td>\n",
       "      <td>NaN</td>\n",
       "      <td>NaN</td>\n",
       "      <td>NaN</td>\n",
       "      <td>NaN</td>\n",
       "      <td>NaN</td>\n",
       "      <td>NaN</td>\n",
       "      <td>NaN</td>\n",
       "      <td>NaN</td>\n",
       "      <td>...</td>\n",
       "      <td>NaN</td>\n",
       "      <td>NaN</td>\n",
       "      <td>NaN</td>\n",
       "      <td>NaN</td>\n",
       "      <td>NaN</td>\n",
       "      <td>NaN</td>\n",
       "      <td>NaN</td>\n",
       "      <td>NaN</td>\n",
       "      <td>NaN</td>\n",
       "      <td>NaN</td>\n",
       "    </tr>\n",
       "    <tr>\n",
       "      <th>1</th>\n",
       "      <td>NaN</td>\n",
       "      <td>-2000.0</td>\n",
       "      <td>NaN</td>\n",
       "      <td>NaN</td>\n",
       "      <td>NaN</td>\n",
       "      <td>NaN</td>\n",
       "      <td>NaN</td>\n",
       "      <td>NaN</td>\n",
       "      <td>NaN</td>\n",
       "      <td>TURKMENISTAN:  W</td>\n",
       "      <td>...</td>\n",
       "      <td>NaN</td>\n",
       "      <td>NaN</td>\n",
       "      <td>NaN</td>\n",
       "      <td>NaN</td>\n",
       "      <td>NaN</td>\n",
       "      <td>1.0</td>\n",
       "      <td>NaN</td>\n",
       "      <td>1.0</td>\n",
       "      <td>NaN</td>\n",
       "      <td>NaN</td>\n",
       "    </tr>\n",
       "    <tr>\n",
       "      <th>2</th>\n",
       "      <td>NaN</td>\n",
       "      <td>-250.0</td>\n",
       "      <td>NaN</td>\n",
       "      <td>NaN</td>\n",
       "      <td>NaN</td>\n",
       "      <td>NaN</td>\n",
       "      <td>NaN</td>\n",
       "      <td>NaN</td>\n",
       "      <td>NaN</td>\n",
       "      <td>KYRGYZSTAN:  CHIGUCHIN</td>\n",
       "      <td>...</td>\n",
       "      <td>NaN</td>\n",
       "      <td>NaN</td>\n",
       "      <td>NaN</td>\n",
       "      <td>NaN</td>\n",
       "      <td>NaN</td>\n",
       "      <td>3.0</td>\n",
       "      <td>NaN</td>\n",
       "      <td>NaN</td>\n",
       "      <td>NaN</td>\n",
       "      <td>NaN</td>\n",
       "    </tr>\n",
       "    <tr>\n",
       "      <th>3</th>\n",
       "      <td>NaN</td>\n",
       "      <td>-227.0</td>\n",
       "      <td>NaN</td>\n",
       "      <td>NaN</td>\n",
       "      <td>NaN</td>\n",
       "      <td>NaN</td>\n",
       "      <td>NaN</td>\n",
       "      <td>3092.0</td>\n",
       "      <td>NaN</td>\n",
       "      <td>GREECE:  DODECANESE ISLANDS</td>\n",
       "      <td>...</td>\n",
       "      <td>NaN</td>\n",
       "      <td>NaN</td>\n",
       "      <td>NaN</td>\n",
       "      <td>NaN</td>\n",
       "      <td>NaN</td>\n",
       "      <td>1.0</td>\n",
       "      <td>NaN</td>\n",
       "      <td>1.0</td>\n",
       "      <td>NaN</td>\n",
       "      <td>NaN</td>\n",
       "    </tr>\n",
       "    <tr>\n",
       "      <th>4</th>\n",
       "      <td>NaN</td>\n",
       "      <td>-63.0</td>\n",
       "      <td>10.0</td>\n",
       "      <td>NaN</td>\n",
       "      <td>NaN</td>\n",
       "      <td>NaN</td>\n",
       "      <td>NaN</td>\n",
       "      <td>NaN</td>\n",
       "      <td>NaN</td>\n",
       "      <td>RUSSIA:  PANTIKAPEY</td>\n",
       "      <td>...</td>\n",
       "      <td>NaN</td>\n",
       "      <td>NaN</td>\n",
       "      <td>NaN</td>\n",
       "      <td>NaN</td>\n",
       "      <td>NaN</td>\n",
       "      <td>3.0</td>\n",
       "      <td>NaN</td>\n",
       "      <td>NaN</td>\n",
       "      <td>NaN</td>\n",
       "      <td>NaN</td>\n",
       "    </tr>\n",
       "  </tbody>\n",
       "</table>\n",
       "<p>5 rows × 39 columns</p>\n",
       "</div>"
      ],
      "text/plain": [
       "                                   Search Parameters    Year    Mo  Dy  Hr  \\\n",
       "0  [\"Earthquake Magnitude >= 0\",\"Earthquake Depth...     NaN   NaN NaN NaN   \n",
       "1                                                NaN -2000.0   NaN NaN NaN   \n",
       "2                                                NaN  -250.0   NaN NaN NaN   \n",
       "3                                                NaN  -227.0   NaN NaN NaN   \n",
       "4                                                NaN   -63.0  10.0 NaN NaN   \n",
       "\n",
       "   Mn  Sec     Tsu  Vol                Location Name  ...  Total Missing  \\\n",
       "0 NaN  NaN     NaN  NaN                          NaN  ...            NaN   \n",
       "1 NaN  NaN     NaN  NaN             TURKMENISTAN:  W  ...            NaN   \n",
       "2 NaN  NaN     NaN  NaN       KYRGYZSTAN:  CHIGUCHIN  ...            NaN   \n",
       "3 NaN  NaN  3092.0  NaN  GREECE:  DODECANESE ISLANDS  ...            NaN   \n",
       "4 NaN  NaN     NaN  NaN          RUSSIA:  PANTIKAPEY  ...            NaN   \n",
       "\n",
       "   Total Missing Description  Total Injuries  Total Injuries Description  \\\n",
       "0                        NaN             NaN                         NaN   \n",
       "1                        NaN             NaN                         NaN   \n",
       "2                        NaN             NaN                         NaN   \n",
       "3                        NaN             NaN                         NaN   \n",
       "4                        NaN             NaN                         NaN   \n",
       "\n",
       "   Total Damage ($Mil)  Total Damage Description  Total Houses Destroyed  \\\n",
       "0                  NaN                       NaN                     NaN   \n",
       "1                  NaN                       1.0                     NaN   \n",
       "2                  NaN                       3.0                     NaN   \n",
       "3                  NaN                       1.0                     NaN   \n",
       "4                  NaN                       3.0                     NaN   \n",
       "\n",
       "   Total Houses Destroyed Description  Total Houses Damaged  \\\n",
       "0                                 NaN                   NaN   \n",
       "1                                 1.0                   NaN   \n",
       "2                                 NaN                   NaN   \n",
       "3                                 1.0                   NaN   \n",
       "4                                 NaN                   NaN   \n",
       "\n",
       "   Total Houses Damaged Description  \n",
       "0                               NaN  \n",
       "1                               NaN  \n",
       "2                               NaN  \n",
       "3                               NaN  \n",
       "4                               NaN  \n",
       "\n",
       "[5 rows x 39 columns]"
      ]
     },
     "execution_count": 36,
     "metadata": {},
     "output_type": "execute_result"
    }
   ],
   "source": [
    "df_earthquake = pd.read_csv('sismos.tsv', sep='\\t')\n",
    "df_earthquake.head()\n"
   ]
  },
  {
   "cell_type": "markdown",
   "id": "eebac946-aed8-4c05-9234-fa7e9f8b69b0",
   "metadata": {},
   "source": [
    "#### Let's delete the 'Search Parameters' column and the first empty row"
   ]
  },
  {
   "cell_type": "code",
   "execution_count": 37,
   "id": "d77f9ff0-e36a-4386-9eaf-a217be0dbc39",
   "metadata": {},
   "outputs": [
    {
     "data": {
      "text/html": [
       "<div>\n",
       "<style scoped>\n",
       "    .dataframe tbody tr th:only-of-type {\n",
       "        vertical-align: middle;\n",
       "    }\n",
       "\n",
       "    .dataframe tbody tr th {\n",
       "        vertical-align: top;\n",
       "    }\n",
       "\n",
       "    .dataframe thead th {\n",
       "        text-align: right;\n",
       "    }\n",
       "</style>\n",
       "<table border=\"1\" class=\"dataframe\">\n",
       "  <thead>\n",
       "    <tr style=\"text-align: right;\">\n",
       "      <th></th>\n",
       "      <th>Year</th>\n",
       "      <th>Mo</th>\n",
       "      <th>Dy</th>\n",
       "      <th>Hr</th>\n",
       "      <th>Mn</th>\n",
       "      <th>Sec</th>\n",
       "      <th>Tsu</th>\n",
       "      <th>Vol</th>\n",
       "      <th>Location Name</th>\n",
       "      <th>Latitude</th>\n",
       "      <th>...</th>\n",
       "      <th>Total Missing</th>\n",
       "      <th>Total Missing Description</th>\n",
       "      <th>Total Injuries</th>\n",
       "      <th>Total Injuries Description</th>\n",
       "      <th>Total Damage ($Mil)</th>\n",
       "      <th>Total Damage Description</th>\n",
       "      <th>Total Houses Destroyed</th>\n",
       "      <th>Total Houses Destroyed Description</th>\n",
       "      <th>Total Houses Damaged</th>\n",
       "      <th>Total Houses Damaged Description</th>\n",
       "    </tr>\n",
       "  </thead>\n",
       "  <tbody>\n",
       "    <tr>\n",
       "      <th>1</th>\n",
       "      <td>-2000.0</td>\n",
       "      <td>NaN</td>\n",
       "      <td>NaN</td>\n",
       "      <td>NaN</td>\n",
       "      <td>NaN</td>\n",
       "      <td>NaN</td>\n",
       "      <td>NaN</td>\n",
       "      <td>NaN</td>\n",
       "      <td>TURKMENISTAN:  W</td>\n",
       "      <td>38.0</td>\n",
       "      <td>...</td>\n",
       "      <td>NaN</td>\n",
       "      <td>NaN</td>\n",
       "      <td>NaN</td>\n",
       "      <td>NaN</td>\n",
       "      <td>NaN</td>\n",
       "      <td>1.0</td>\n",
       "      <td>NaN</td>\n",
       "      <td>1.0</td>\n",
       "      <td>NaN</td>\n",
       "      <td>NaN</td>\n",
       "    </tr>\n",
       "    <tr>\n",
       "      <th>2</th>\n",
       "      <td>-250.0</td>\n",
       "      <td>NaN</td>\n",
       "      <td>NaN</td>\n",
       "      <td>NaN</td>\n",
       "      <td>NaN</td>\n",
       "      <td>NaN</td>\n",
       "      <td>NaN</td>\n",
       "      <td>NaN</td>\n",
       "      <td>KYRGYZSTAN:  CHIGUCHIN</td>\n",
       "      <td>42.7</td>\n",
       "      <td>...</td>\n",
       "      <td>NaN</td>\n",
       "      <td>NaN</td>\n",
       "      <td>NaN</td>\n",
       "      <td>NaN</td>\n",
       "      <td>NaN</td>\n",
       "      <td>3.0</td>\n",
       "      <td>NaN</td>\n",
       "      <td>NaN</td>\n",
       "      <td>NaN</td>\n",
       "      <td>NaN</td>\n",
       "    </tr>\n",
       "    <tr>\n",
       "      <th>3</th>\n",
       "      <td>-227.0</td>\n",
       "      <td>NaN</td>\n",
       "      <td>NaN</td>\n",
       "      <td>NaN</td>\n",
       "      <td>NaN</td>\n",
       "      <td>NaN</td>\n",
       "      <td>3092.0</td>\n",
       "      <td>NaN</td>\n",
       "      <td>GREECE:  DODECANESE ISLANDS</td>\n",
       "      <td>36.3</td>\n",
       "      <td>...</td>\n",
       "      <td>NaN</td>\n",
       "      <td>NaN</td>\n",
       "      <td>NaN</td>\n",
       "      <td>NaN</td>\n",
       "      <td>NaN</td>\n",
       "      <td>1.0</td>\n",
       "      <td>NaN</td>\n",
       "      <td>1.0</td>\n",
       "      <td>NaN</td>\n",
       "      <td>NaN</td>\n",
       "    </tr>\n",
       "    <tr>\n",
       "      <th>4</th>\n",
       "      <td>-63.0</td>\n",
       "      <td>10.0</td>\n",
       "      <td>NaN</td>\n",
       "      <td>NaN</td>\n",
       "      <td>NaN</td>\n",
       "      <td>NaN</td>\n",
       "      <td>NaN</td>\n",
       "      <td>NaN</td>\n",
       "      <td>RUSSIA:  PANTIKAPEY</td>\n",
       "      <td>45.2</td>\n",
       "      <td>...</td>\n",
       "      <td>NaN</td>\n",
       "      <td>NaN</td>\n",
       "      <td>NaN</td>\n",
       "      <td>NaN</td>\n",
       "      <td>NaN</td>\n",
       "      <td>3.0</td>\n",
       "      <td>NaN</td>\n",
       "      <td>NaN</td>\n",
       "      <td>NaN</td>\n",
       "      <td>NaN</td>\n",
       "    </tr>\n",
       "    <tr>\n",
       "      <th>5</th>\n",
       "      <td>10.0</td>\n",
       "      <td>NaN</td>\n",
       "      <td>NaN</td>\n",
       "      <td>NaN</td>\n",
       "      <td>NaN</td>\n",
       "      <td>0.0</td>\n",
       "      <td>NaN</td>\n",
       "      <td>NaN</td>\n",
       "      <td>TURKMENISTAN:  NISA</td>\n",
       "      <td>38.0</td>\n",
       "      <td>...</td>\n",
       "      <td>NaN</td>\n",
       "      <td>NaN</td>\n",
       "      <td>NaN</td>\n",
       "      <td>NaN</td>\n",
       "      <td>NaN</td>\n",
       "      <td>NaN</td>\n",
       "      <td>NaN</td>\n",
       "      <td>NaN</td>\n",
       "      <td>NaN</td>\n",
       "      <td>NaN</td>\n",
       "    </tr>\n",
       "  </tbody>\n",
       "</table>\n",
       "<p>5 rows × 38 columns</p>\n",
       "</div>"
      ],
      "text/plain": [
       "     Year    Mo  Dy  Hr  Mn  Sec     Tsu  Vol                Location Name  \\\n",
       "1 -2000.0   NaN NaN NaN NaN  NaN     NaN  NaN             TURKMENISTAN:  W   \n",
       "2  -250.0   NaN NaN NaN NaN  NaN     NaN  NaN       KYRGYZSTAN:  CHIGUCHIN   \n",
       "3  -227.0   NaN NaN NaN NaN  NaN  3092.0  NaN  GREECE:  DODECANESE ISLANDS   \n",
       "4   -63.0  10.0 NaN NaN NaN  NaN     NaN  NaN          RUSSIA:  PANTIKAPEY   \n",
       "5    10.0   NaN NaN NaN NaN  0.0     NaN  NaN          TURKMENISTAN:  NISA   \n",
       "\n",
       "   Latitude  ...  Total Missing  Total Missing Description  Total Injuries  \\\n",
       "1      38.0  ...            NaN                        NaN             NaN   \n",
       "2      42.7  ...            NaN                        NaN             NaN   \n",
       "3      36.3  ...            NaN                        NaN             NaN   \n",
       "4      45.2  ...            NaN                        NaN             NaN   \n",
       "5      38.0  ...            NaN                        NaN             NaN   \n",
       "\n",
       "   Total Injuries Description  Total Damage ($Mil)  Total Damage Description  \\\n",
       "1                         NaN                  NaN                       1.0   \n",
       "2                         NaN                  NaN                       3.0   \n",
       "3                         NaN                  NaN                       1.0   \n",
       "4                         NaN                  NaN                       3.0   \n",
       "5                         NaN                  NaN                       NaN   \n",
       "\n",
       "   Total Houses Destroyed  Total Houses Destroyed Description  \\\n",
       "1                     NaN                                 1.0   \n",
       "2                     NaN                                 NaN   \n",
       "3                     NaN                                 1.0   \n",
       "4                     NaN                                 NaN   \n",
       "5                     NaN                                 NaN   \n",
       "\n",
       "   Total Houses Damaged  Total Houses Damaged Description  \n",
       "1                   NaN                               NaN  \n",
       "2                   NaN                               NaN  \n",
       "3                   NaN                               NaN  \n",
       "4                   NaN                               NaN  \n",
       "5                   NaN                               NaN  \n",
       "\n",
       "[5 rows x 38 columns]"
      ]
     },
     "execution_count": 37,
     "metadata": {},
     "output_type": "execute_result"
    }
   ],
   "source": [
    "df_earthquake = df_earthquake.drop(0)\n",
    "df_earthquake = df_earthquake.drop(labels='Search Parameters', axis=1)\n",
    "df_earthquake.head()"
   ]
  },
  {
   "cell_type": "markdown",
   "id": "e846f267-7380-4ed1-8953-bd295cb1b7ae",
   "metadata": {},
   "source": [
    "### We will be using only the earthquakes data for which the latitude and longitude are known"
   ]
  },
  {
   "cell_type": "code",
   "execution_count": 39,
   "id": "f11ecbb9-9c31-4bd4-aa29-d6ddfad07408",
   "metadata": {},
   "outputs": [],
   "source": [
    "df = df_earthquake.dropna(subset=['Latitude','Longitude','Mag','Total Damage Description']).copy() \n"
   ]
  },
  {
   "cell_type": "markdown",
   "id": "f3780ba5-a009-4b1c-9198-75a306fae757",
   "metadata": {},
   "source": [
    "### The number given in the column 'Tsu' corresponds to the bulletin number for the tsunami report. \n",
    "\n",
    "### Since we are only looking to determine whether the earthquake triggered a tsunami or not, we will replace any number with 1 and NaN with 0"
   ]
  },
  {
   "cell_type": "code",
   "execution_count": 40,
   "id": "6ec0f6bf-ba3c-4f05-b6ee-fc4cee0f1dbd",
   "metadata": {},
   "outputs": [],
   "source": [
    "#Getting the indices that are not NaN\n",
    "indices=df.Tsu.notna()\n",
    "#Replacing them with 1\n",
    "df.loc[indices, 'Tsu'] = 1\n",
    "#Replacing Nan with 0\n",
    "df.Tsu.fillna(0, inplace=True)\n",
    "\n"
   ]
  },
  {
   "cell_type": "code",
   "execution_count": 41,
   "id": "122b3f1a-f067-4120-bb74-174aa7535121",
   "metadata": {},
   "outputs": [
    {
     "data": {
      "text/html": [
       "<div>\n",
       "<style scoped>\n",
       "    .dataframe tbody tr th:only-of-type {\n",
       "        vertical-align: middle;\n",
       "    }\n",
       "\n",
       "    .dataframe tbody tr th {\n",
       "        vertical-align: top;\n",
       "    }\n",
       "\n",
       "    .dataframe thead th {\n",
       "        text-align: right;\n",
       "    }\n",
       "</style>\n",
       "<table border=\"1\" class=\"dataframe\">\n",
       "  <thead>\n",
       "    <tr style=\"text-align: right;\">\n",
       "      <th></th>\n",
       "      <th>Year</th>\n",
       "      <th>Mo</th>\n",
       "      <th>Dy</th>\n",
       "      <th>Hr</th>\n",
       "      <th>Mn</th>\n",
       "      <th>Sec</th>\n",
       "      <th>Tsu</th>\n",
       "      <th>Vol</th>\n",
       "      <th>Location Name</th>\n",
       "      <th>Latitude</th>\n",
       "      <th>...</th>\n",
       "      <th>Total Missing</th>\n",
       "      <th>Total Missing Description</th>\n",
       "      <th>Total Injuries</th>\n",
       "      <th>Total Injuries Description</th>\n",
       "      <th>Total Damage ($Mil)</th>\n",
       "      <th>Total Damage Description</th>\n",
       "      <th>Total Houses Destroyed</th>\n",
       "      <th>Total Houses Destroyed Description</th>\n",
       "      <th>Total Houses Damaged</th>\n",
       "      <th>Total Houses Damaged Description</th>\n",
       "    </tr>\n",
       "  </thead>\n",
       "  <tbody>\n",
       "    <tr>\n",
       "      <th>1</th>\n",
       "      <td>-2000.0</td>\n",
       "      <td>NaN</td>\n",
       "      <td>NaN</td>\n",
       "      <td>NaN</td>\n",
       "      <td>NaN</td>\n",
       "      <td>NaN</td>\n",
       "      <td>0.0</td>\n",
       "      <td>NaN</td>\n",
       "      <td>TURKMENISTAN:  W</td>\n",
       "      <td>38.0</td>\n",
       "      <td>...</td>\n",
       "      <td>NaN</td>\n",
       "      <td>NaN</td>\n",
       "      <td>NaN</td>\n",
       "      <td>NaN</td>\n",
       "      <td>NaN</td>\n",
       "      <td>1.0</td>\n",
       "      <td>NaN</td>\n",
       "      <td>1.0</td>\n",
       "      <td>NaN</td>\n",
       "      <td>NaN</td>\n",
       "    </tr>\n",
       "    <tr>\n",
       "      <th>2</th>\n",
       "      <td>-250.0</td>\n",
       "      <td>NaN</td>\n",
       "      <td>NaN</td>\n",
       "      <td>NaN</td>\n",
       "      <td>NaN</td>\n",
       "      <td>NaN</td>\n",
       "      <td>0.0</td>\n",
       "      <td>NaN</td>\n",
       "      <td>KYRGYZSTAN:  CHIGUCHIN</td>\n",
       "      <td>42.7</td>\n",
       "      <td>...</td>\n",
       "      <td>NaN</td>\n",
       "      <td>NaN</td>\n",
       "      <td>NaN</td>\n",
       "      <td>NaN</td>\n",
       "      <td>NaN</td>\n",
       "      <td>3.0</td>\n",
       "      <td>NaN</td>\n",
       "      <td>NaN</td>\n",
       "      <td>NaN</td>\n",
       "      <td>NaN</td>\n",
       "    </tr>\n",
       "    <tr>\n",
       "      <th>3</th>\n",
       "      <td>-227.0</td>\n",
       "      <td>NaN</td>\n",
       "      <td>NaN</td>\n",
       "      <td>NaN</td>\n",
       "      <td>NaN</td>\n",
       "      <td>NaN</td>\n",
       "      <td>1.0</td>\n",
       "      <td>NaN</td>\n",
       "      <td>GREECE:  DODECANESE ISLANDS</td>\n",
       "      <td>36.3</td>\n",
       "      <td>...</td>\n",
       "      <td>NaN</td>\n",
       "      <td>NaN</td>\n",
       "      <td>NaN</td>\n",
       "      <td>NaN</td>\n",
       "      <td>NaN</td>\n",
       "      <td>1.0</td>\n",
       "      <td>NaN</td>\n",
       "      <td>1.0</td>\n",
       "      <td>NaN</td>\n",
       "      <td>NaN</td>\n",
       "    </tr>\n",
       "  </tbody>\n",
       "</table>\n",
       "<p>3 rows × 38 columns</p>\n",
       "</div>"
      ],
      "text/plain": [
       "     Year  Mo  Dy  Hr  Mn  Sec  Tsu  Vol                Location Name  \\\n",
       "1 -2000.0 NaN NaN NaN NaN  NaN  0.0  NaN             TURKMENISTAN:  W   \n",
       "2  -250.0 NaN NaN NaN NaN  NaN  0.0  NaN       KYRGYZSTAN:  CHIGUCHIN   \n",
       "3  -227.0 NaN NaN NaN NaN  NaN  1.0  NaN  GREECE:  DODECANESE ISLANDS   \n",
       "\n",
       "   Latitude  ...  Total Missing  Total Missing Description  Total Injuries  \\\n",
       "1      38.0  ...            NaN                        NaN             NaN   \n",
       "2      42.7  ...            NaN                        NaN             NaN   \n",
       "3      36.3  ...            NaN                        NaN             NaN   \n",
       "\n",
       "   Total Injuries Description  Total Damage ($Mil)  Total Damage Description  \\\n",
       "1                         NaN                  NaN                       1.0   \n",
       "2                         NaN                  NaN                       3.0   \n",
       "3                         NaN                  NaN                       1.0   \n",
       "\n",
       "   Total Houses Destroyed  Total Houses Destroyed Description  \\\n",
       "1                     NaN                                 1.0   \n",
       "2                     NaN                                 NaN   \n",
       "3                     NaN                                 1.0   \n",
       "\n",
       "   Total Houses Damaged  Total Houses Damaged Description  \n",
       "1                   NaN                               NaN  \n",
       "2                   NaN                               NaN  \n",
       "3                   NaN                               NaN  \n",
       "\n",
       "[3 rows x 38 columns]"
      ]
     },
     "execution_count": 41,
     "metadata": {},
     "output_type": "execute_result"
    }
   ],
   "source": [
    "df.head(3)"
   ]
  },
  {
   "cell_type": "markdown",
   "id": "0eb294ca-537a-4f46-a45d-f3a720e5de4e",
   "metadata": {},
   "source": [
    "## The next step it's to see if it is possible to predict the \"Tsu\" column with a Decision Tree algorithm. \n",
    "\n",
    "#### This would mean to predict if there is a Tsunami report given the columns Latitude, Longitude, Magnitude, Focal Depth and Total Damage Description for an earthquake. \n",
    "\n",
    "\n",
    "### Let's see what does these selected features mean:"
   ]
  },
  {
   "cell_type": "markdown",
   "id": "2f9a5b25-7783-45b7-b5a0-4664fab12ca0",
   "metadata": {},
   "source": [
    "### Tsu (Tsunami)\n",
    "When a tsunami or seiche was generated by an earthquake"
   ]
  },
  {
   "cell_type": "markdown",
   "id": "55f09386-2c86-4ec5-942d-91fc11e3c47b",
   "metadata": {},
   "source": [
    "### Latitude, Longitude\n",
    "These two features gives the location of the earthquake"
   ]
  },
  {
   "cell_type": "markdown",
   "id": "5ba5d492-64cc-4deb-a2cb-5a2452fa3f83",
   "metadata": {},
   "source": [
    "### Magnitude (Mag) and Focal Depth (km)\n",
    "The column Mag contains the primary earthquake magnitude. Magnitude measures the energy released at the source of the earthquake. Magnitude is determined from measurements on seismographs.\n",
    "\n",
    "Focal Depth is given in km and refers to the depth of the earthquake.\n"
   ]
  },
  {
   "cell_type": "markdown",
   "id": "081ab238-8a63-4c5d-b044-4f40b36783ee",
   "metadata": {},
   "source": [
    "### Total Damage Description\n",
    "For those events not offering a monetary evaluation of damage, the following five-level scale was used to classify damage (1990 dollars) and was listed in the Damage column. If the actual dollar amount of damage was listed, a descriptor was also added for search purposes.\n",
    "\n",
    "0->NONE\n",
    "\n",
    "\n",
    "1->LIMITED (roughly corresponding to less than $1 million)\n",
    "\n",
    "\n",
    "2->MODERATE (~$1 to $5 million)\n",
    "\n",
    "\n",
    "3->SEVERE (~$5 to $25 million)\n",
    "\n",
    "\n",
    "4->EXTREME (~$25 million or more)\n",
    "\n",
    "When possible, a rough estimate was made of the dollar amount of damage based upon the description provided, in order to choose the damage category. In many cases, only a single descriptive term was available. These terms were converted to the damage categories based upon the authors apparent use of the term elsewhere. In the absence of other information, LIMITED is considered synonymous with slight, minor, and light, SEVERE as synonymous with major, extensive, and heavy, and EXTREME as synonymous with catastrophic.\n",
    "\n",
    "Note: The descriptive terms relate approximately to current dollar values."
   ]
  },
  {
   "cell_type": "markdown",
   "id": "3127f474-ea9f-4f47-9504-acd13660207c",
   "metadata": {},
   "source": [
    "## Now, let's divide the data:\n",
    "    X as the Features \n",
    "  \n",
    "    y as the response vector (target)\n"
   ]
  },
  {
   "cell_type": "code",
   "execution_count": 42,
   "id": "e9578c8a-a6af-40a9-b4bd-f6bf556e6b83",
   "metadata": {},
   "outputs": [],
   "source": [
    "X = df[['Latitude','Longitude','Mag','Total Damage Description','Focal Depth (km)']].values\n"
   ]
  },
  {
   "cell_type": "code",
   "execution_count": 43,
   "id": "e14e2dc5-56f8-4238-a934-79842dc12bc9",
   "metadata": {},
   "outputs": [],
   "source": [
    "y = df['Tsu']\n"
   ]
  },
  {
   "cell_type": "markdown",
   "id": "6b1f182f-dde8-4674-80c8-b5cdc433e843",
   "metadata": {},
   "source": [
    "### We divide the data into training and test sets"
   ]
  },
  {
   "cell_type": "code",
   "execution_count": 44,
   "id": "17486280-6740-407a-8fe9-1f957bd2cf95",
   "metadata": {},
   "outputs": [],
   "source": [
    "X_trainset, X_testset, y_trainset, y_testset = train_test_split(X, y, random_state=3)\n"
   ]
  },
  {
   "cell_type": "markdown",
   "id": "899d59b0-fd1c-4cfc-8ac2-5fccf51edbec",
   "metadata": {},
   "source": [
    "#### We will create an instance of the DecisionTreeClassifier, with criterion=\"entropy\""
   ]
  },
  {
   "cell_type": "code",
   "execution_count": 45,
   "id": "9f29bf95-aa98-4bc4-a9f2-f26efe8d4030",
   "metadata": {},
   "outputs": [
    {
     "data": {
      "text/plain": [
       "DecisionTreeClassifier(criterion='entropy', max_depth=3)"
      ]
     },
     "execution_count": 45,
     "metadata": {},
     "output_type": "execute_result"
    }
   ],
   "source": [
    "TsuTree = DecisionTreeClassifier(criterion=\"entropy\", max_depth = 3)\n",
    "TsuTree"
   ]
  },
  {
   "cell_type": "markdown",
   "id": "0cd808bb-e170-48f2-8de8-5e1094cd029c",
   "metadata": {},
   "source": [
    "#### Now let's train the model given the trained data and compute its predictions"
   ]
  },
  {
   "cell_type": "code",
   "execution_count": 46,
   "id": "90e3056d-cb1f-431e-b633-04c282783b73",
   "metadata": {},
   "outputs": [
    {
     "data": {
      "text/plain": [
       "DecisionTreeClassifier(criterion='entropy', max_depth=3)"
      ]
     },
     "execution_count": 46,
     "metadata": {},
     "output_type": "execute_result"
    }
   ],
   "source": [
    "TsuTree.fit(X_trainset, y_trainset)"
   ]
  },
  {
   "cell_type": "code",
   "execution_count": 47,
   "id": "f402c839-489e-4373-aa6e-3e90d8951235",
   "metadata": {},
   "outputs": [],
   "source": [
    "pTsuTree = TsuTree.predict(X_testset)\n"
   ]
  },
  {
   "cell_type": "markdown",
   "id": "a0470d65-a40a-4131-b77a-db6f015356f7",
   "metadata": {},
   "source": [
    "### What is the score or accuracy for this model?"
   ]
  },
  {
   "cell_type": "code",
   "execution_count": 48,
   "id": "f555325f-0376-4178-a489-0e7f86d7f256",
   "metadata": {},
   "outputs": [
    {
     "data": {
      "text/plain": [
       "0.8032200357781754"
      ]
     },
     "execution_count": 48,
     "metadata": {},
     "output_type": "execute_result"
    }
   ],
   "source": [
    "acc = metrics.accuracy_score(y_testset, pTsuTree)\n",
    "acc"
   ]
  },
  {
   "cell_type": "code",
   "execution_count": 49,
   "id": "bdbc6624-db6e-49a8-92b9-d3f6a2fd7c1e",
   "metadata": {},
   "outputs": [
    {
     "data": {
      "image/png": "[encoded data removed]",
      "text/plain": [
       "<Figure size 432x288 with 1 Axes>"
      ]
     },
     "metadata": {
      "needs_background": "light"
     },
     "output_type": "display_data"
    }
   ],
   "source": [
    "tree.plot_tree(TsuTree)\n",
    "plt.show()"
   ]
  },
  {
   "cell_type": "code",
   "execution_count": null,
   "id": "a7ce84e3-cdb6-4ac6-91e2-30b10d7e9780",
   "metadata": {},
   "outputs": [],
   "source": []
  },
  {
   "cell_type": "markdown",
   "id": "482b396b-f4c5-4fa1-b9a9-a70f36335ffc",
   "metadata": {},
   "source": [
    "### Let's obtain the optimal max_depth for this model\n",
    "#### In our previous example, we have set it to 3, but now let's compute the accuracy of the model for different values of max_depth "
   ]
  },
  {
   "cell_type": "code",
   "execution_count": 50,
   "id": "c82fbde3-0567-4de4-a8a0-0e72f5301f17",
   "metadata": {},
   "outputs": [],
   "source": [
    "#We choose possible values for max_depth\n",
    "possiblerange = range(1, 11)\n",
    "\n",
    "#Now,let's append the variable accuracy for each possible value of max_depth\n",
    "accuracy = []\n",
    "for depth in possiblerange:\n",
    "    \n",
    "    TreeD = DecisionTreeClassifier(max_depth = depth, \n",
    "                             random_state = 3)\n",
    "    TreeD.fit(X_trainset, y_trainset)    \n",
    "    score = TreeD.score(X_testset, y_testset)\n",
    "    accuracy.append(score)"
   ]
  },
  {
   "cell_type": "markdown",
   "id": "b99afd1e-ebc3-4aa1-b6f9-1ce781472005",
   "metadata": {},
   "source": [
    "### A plot is an easy way to visualise the best value for max_depth"
   ]
  },
  {
   "cell_type": "code",
   "execution_count": 51,
   "id": "13c67ab7-9007-46f6-8800-cd7b7fd3cdd5",
   "metadata": {},
   "outputs": [
    {
     "data": {
      "text/plain": [
       "Text(0.5, 1.0, 'Max_depth vs accuracy')"
      ]
     },
     "execution_count": 51,
     "metadata": {},
     "output_type": "execute_result"
    },
    {
     "data": {
      "image/png": "[encoded data removed]",
      "text/plain": [
       "<Figure size 432x288 with 1 Axes>"
      ]
     },
     "metadata": {
      "needs_background": "light"
     },
     "output_type": "display_data"
    }
   ],
   "source": [
    "sns.lineplot(x=possiblerange,y=accuracy, marker= 'h', markersize=10)\n",
    "plt.xlabel(\"Max_depth\", fontsize= 12)\n",
    "plt.ylabel(\"Accuracy\", fontsize= 12)\n",
    "plt.title(\"Max_depth vs accuracy\", fontsize= 15)"
   ]
  },
  {
   "cell_type": "markdown",
   "id": "ae8fc2cf-035c-476e-a876-9d8dc0c2603e",
   "metadata": {},
   "source": [
    "### We can observe that a max_depth of 7 gives the best accuracy, so let's use this value for our model"
   ]
  },
  {
   "cell_type": "code",
   "execution_count": 52,
   "id": "b48dc9d6-a800-4801-99d3-405933074e54",
   "metadata": {},
   "outputs": [
    {
     "data": {
      "text/plain": [
       "DecisionTreeClassifier(criterion='entropy', max_depth=7)"
      ]
     },
     "execution_count": 52,
     "metadata": {},
     "output_type": "execute_result"
    }
   ],
   "source": [
    "TsuTree = DecisionTreeClassifier(criterion=\"entropy\", max_depth = 7)\n",
    "TsuTree \n"
   ]
  },
  {
   "cell_type": "code",
   "execution_count": 54,
   "id": "408b7488-8968-4a8f-bc74-60d8d41ed075",
   "metadata": {},
   "outputs": [],
   "source": [
    "#Fit and train the new model:\n",
    "TsuTree.fit(X_trainset, y_trainset) \n",
    "pTsuTree = TsuTree.predict(X_testset)"
   ]
  },
  {
   "cell_type": "markdown",
   "id": "71f8b13d-143b-47cc-b3f1-9cc317c03ce8",
   "metadata": {},
   "source": [
    "### We can check the importance of each one of the features:"
   ]
  },
  {
   "cell_type": "code",
   "execution_count": null,
   "id": "98081914-dedf-4b60-bdcd-5d4e8d8a75b1",
   "metadata": {},
   "outputs": [],
   "source": []
  },
  {
   "cell_type": "code",
   "execution_count": 58,
   "id": "896cb378-f9f8-47bb-988b-a099fd8b0306",
   "metadata": {},
   "outputs": [
    {
     "data": {
      "text/plain": [
       "Text(0.5, 1.0, 'Features vs Importance')"
      ]
     },
     "execution_count": 58,
     "metadata": {},
     "output_type": "execute_result"
    },
    {
     "data": {
      "image/png": "[encoded data removed]",
      "text/plain": [
       "<Figure size 432x288 with 1 Axes>"
      ]
     },
     "metadata": {
      "needs_background": "light"
     },
     "output_type": "display_data"
    }
   ],
   "source": [
    "importance = TsuTree.feature_importances_\n",
    "features=['Latitude','Longitude','Mag','Total Damage Description','Focal Depth (km)']\n",
    "sns.barplot(x=importance, y=features)\n",
    "plt.xlabel(\"Importance\", fontsize= 12)\n",
    "plt.title(\"Features vs Importance\", fontsize= 15)"
   ]
  },
  {
   "cell_type": "markdown",
   "id": "ce4e6d40-c735-43f0-a220-a42781d7c84a",
   "metadata": {},
   "source": [
    "#### This graph suggests that the magnitude of the earthquake is the most important feature.  This corresponds to what we see in reality, where bigger earthquakes tend to produce tsunamis.\n",
    "\n",
    "#### Longitude is the second feature in importance. This is to be expected given that most tsunamis occur in the Pacific Ocean."
   ]
  },
  {
   "cell_type": "markdown",
   "id": "baf2131f-fc78-431e-b1fd-e33dc648132d",
   "metadata": {},
   "source": [
    "## Finally, let's visualise our Decision Tree"
   ]
  },
  {
   "cell_type": "code",
   "execution_count": 59,
   "id": "391ae95a-1ee9-4208-9511-4be21ea37756",
   "metadata": {},
   "outputs": [
    {
     "data": {
      "image/png": "[encoded data removed]",
      "text/plain": [
       "<Figure size 936x936 with 1 Axes>"
      ]
     },
     "metadata": {
      "needs_background": "light"
     },
     "output_type": "display_data"
    }
   ],
   "source": [
    "\n",
    "plt.figure(figsize=(13,13))  \n",
    "tree.plot_tree(TsuTree, fontsize=8)\n",
    "plt.show()"
   ]
  },
  {
   "cell_type": "code",
   "execution_count": null,
   "id": "40f6f23a-a576-4567-9639-1757662bee41",
   "metadata": {},
   "outputs": [],
   "source": []
  }
 ],
 "metadata": {
  "kernelspec": {
   "display_name": "Python 3",
   "language": "python",
   "name": "python3"
  },
  "language_info": {
   "codemirror_mode": {
    "name": "ipython",
    "version": 3
   },
   "file_extension": ".py",
   "mimetype": "text/x-python",
   "name": "python",
   "nbconvert_exporter": "python",
   "pygments_lexer": "ipython3",
   "version": "3.6.9"
  }
 },
 "nbformat": 4,
 "nbformat_minor": 5
}
